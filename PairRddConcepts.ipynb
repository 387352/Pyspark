{
 "cells": [
  {
   "cell_type": "code",
   "execution_count": 43,
   "metadata": {},
   "outputs": [
    {
     "name": "stdout",
     "output_type": "stream",
     "text": [
      "Tamil --- [3]\n",
      "Andhra --- [12, 5]\n",
      "BANG --- [1.5]\n",
      "MUM --- [2.5, 5]\n",
      "HYD --- [2]\n",
      "ODS --- [4]\n"
     ]
    },
    {
     "data": {
      "text/plain": [
       "[('Tamil', 3.0)]"
      ]
     },
     "execution_count": 43,
     "metadata": {},
     "output_type": "execute_result"
    }
   ],
   "source": [
    "import findspark\n",
    "findspark.init()\n",
    "\n",
    "from pyspark import SparkContext, SparkConf\n",
    "sc.stop()\n",
    "sc = SparkContext(master=\"local\",appName=\"PairRddConcepts\")\n",
    "\n",
    "rdd1 = sc.parallelize([('Tamil',3),('Andhra',12),('BANG',1.5),('MUM',2.5),('HYD',2),('ODS',4),('Andhra',5),('MUM',5)])\n",
    "rdd2 = rdd1.groupByKey()\n",
    "\n",
    "rdd3 = rdd1.reduceByKey(lambda x,y:x+y)\n",
    "\n",
    "for k,v in rdd2.collect():\n",
    "    print(k,\"---\",[i for i in v])\n",
    "    \n",
    "\n",
    "rdd4count = rdd1.mapValues(lambda x:1).reduceByKey(lambda x,y : x+y)\n",
    "\n",
    "rdd4join = rdd3.join(rdd4count)\n",
    "rdd4avg = rdd4join.mapValues(lambda x:x[0]/x[1]).sortBy(lambda a:-a[1])\n",
    "rdd4avg.top(1)"
   ]
  },
  {
   "cell_type": "code",
   "execution_count": null,
   "metadata": {},
   "outputs": [],
   "source": []
  }
 ],
 "metadata": {
  "kernelspec": {
   "display_name": "Python 3",
   "language": "python",
   "name": "python3"
  },
  "language_info": {
   "codemirror_mode": {
    "name": "ipython",
    "version": 3
   },
   "file_extension": ".py",
   "mimetype": "text/x-python",
   "name": "python",
   "nbconvert_exporter": "python",
   "pygments_lexer": "ipython3",
   "version": "3.7.6"
  }
 },
 "nbformat": 4,
 "nbformat_minor": 4
}
